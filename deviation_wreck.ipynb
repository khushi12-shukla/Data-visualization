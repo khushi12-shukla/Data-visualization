{
  "nbformat": 4,
  "nbformat_minor": 0,
  "metadata": {
    "colab": {
      "name": "deviation wreck",
      "provenance": [],
      "collapsed_sections": [],
      "authorship_tag": "ABX9TyMtCUgRXOMnSMXTGsyZgiCo",
      "include_colab_link": true
    },
    "kernelspec": {
      "name": "python3",
      "display_name": "Python 3"
    },
    "language_info": {
      "name": "python"
    }
  },
  "cells": [
    {
      "cell_type": "markdown",
      "metadata": {
        "id": "view-in-github",
        "colab_type": "text"
      },
      "source": [
        "<a href=\"https://colab.research.google.com/github/khushi12-shukla/Data-visualization/blob/master/deviation_wreck.ipynb\" target=\"_parent\"><img src=\"https://colab.research.google.com/assets/colab-badge.svg\" alt=\"Open In Colab\"/></a>"
      ]
    },
    {
      "cell_type": "code",
      "execution_count": 1,
      "metadata": {
        "colab": {
          "base_uri": "https://localhost:8080/"
        },
        "id": "G8a5T6XbmV4I",
        "outputId": "cecc5b4f-6f1a-4216-b289-8378335ec352"
      },
      "outputs": [
        {
          "output_type": "stream",
          "name": "stdout",
          "text": [
            "the standard deviation is 21.25542527093438\n"
          ]
        }
      ],
      "source": [
        "import math\n",
        "\n",
        "fact = [20,69,56,90,40,99,86,100,70,69,80,65,57,82,90,70,79,39,90,80,86,53,97,95,88,47,100,56,97,100]\n",
        "\n",
        "def mean (fact):\n",
        "  n=len(fact)\n",
        "  total=0\n",
        "  for x in fact:\n",
        "    total += int(x)\n",
        "  mean = total/n\n",
        "  return mean\n",
        "\n",
        "result=[]\n",
        "for y in fact:\n",
        "  value = int(y)-mean(fact)\n",
        "  value = value**2\n",
        "  result.append(value)\n",
        "sum = 0\n",
        "for z in result:\n",
        "  sum += int(z)\n",
        "division = sum/(len(fact)-1)\n",
        "standard_deviation = math.sqrt(division)\n",
        "print(\"the standard deviation is\", standard_deviation)"
      ]
    }
  ]
}
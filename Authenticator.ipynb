{
  "nbformat": 4,
  "nbformat_minor": 0,
  "metadata": {
    "colab": {
      "name": "Authenticator",
      "provenance": [],
      "collapsed_sections": [],
      "authorship_tag": "ABX9TyOUnO5u4RdNYWxyeQ75FS3r",
      "include_colab_link": true
    },
    "kernelspec": {
      "name": "python3",
      "display_name": "Python 3"
    },
    "language_info": {
      "name": "python"
    }
  },
  "cells": [
    {
      "cell_type": "markdown",
      "metadata": {
        "id": "view-in-github",
        "colab_type": "text"
      },
      "source": [
        "<a href=\"https://colab.research.google.com/github/khushi12-shukla/Data-visualization/blob/master/Authenticator.ipynb\" target=\"_parent\"><img src=\"https://colab.research.google.com/assets/colab-badge.svg\" alt=\"Open In Colab\"/></a>"
      ]
    },
    {
      "cell_type": "code",
      "execution_count": 4,
      "metadata": {
        "id": "TgNYDuojPlkT"
      },
      "outputs": [],
      "source": [
        "import csv \n",
        "import pandas as pd\n",
        "from sklearn.metrics import confusion_matrix\n",
        "import seaborn as sns\n",
        "import matplotlib.pyplot as plt  \n",
        "from sklearn.model_selection import train_test_split \n",
        "from sklearn.linear_model import LogisticRegression\n",
        "import numpy as np\n",
        "from sklearn.preprocessing import StandardScaler"
      ]
    },
    {
      "cell_type": "code",
      "source": [
        "df = pd.read_csv(\"BankNote_Authentication.csv\")\n",
        "result = df[\"class\"]\n",
        "factors = df[[\"variance\",\"skewness\",\"curtosis\",\"entropy\"]]"
      ],
      "metadata": {
        "id": "J4RKc0JfRbHJ"
      },
      "execution_count": 5,
      "outputs": []
    },
    {
      "cell_type": "code",
      "source": [
        "factors_train, factors_test, result_train, result_test = train_test_split(factors, result, test_size = 00.25, random_state = 0)\n",
        "sc_x = StandardScaler()\n",
        "factors_train = sc_x.fit_transform(factors_train)\n",
        "factors_test = sc_x.transform(factors_test)\n",
        "classifier = LogisticRegression(random_state=0)\n",
        "classifier.fit(factors_train,result_train)"
      ],
      "metadata": {
        "colab": {
          "base_uri": "https://localhost:8080/"
        },
        "id": "M1UeYSjyQqOK",
        "outputId": "f62ecb1d-95ac-4a73-e1ce-3891a59330ed"
      },
      "execution_count": 9,
      "outputs": [
        {
          "output_type": "execute_result",
          "data": {
            "text/plain": [
              "LogisticRegression(random_state=0)"
            ]
          },
          "metadata": {},
          "execution_count": 9
        }
      ]
    },
    {
      "cell_type": "code",
      "source": [
        "prediction = classifier.predict(factors_test)\n",
        "\n",
        "actual_val=[]\n",
        "for i in result_test.ravel():\n",
        "  if i == 0:\n",
        "    actual_val.append(\"Authentic\")\n",
        "  else:\n",
        "    actual_val.append(\"Forged\")\n",
        "\n",
        "predict_val=[]\n",
        "for i in prediction:\n",
        "  if i == 0:\n",
        "    predict_val.append(\"Authentic\")\n",
        "  else:\n",
        "    predict_val.append(\"Forged\")"
      ],
      "metadata": {
        "id": "tgYjDmX5Ro1o"
      },
      "execution_count": 11,
      "outputs": []
    },
    {
      "cell_type": "code",
      "source": [
        "labels=[\"Authentic\",\"Forged\"]\n",
        "cm = confusion_matrix(actual_val,predict_val)\n",
        "ax = plt.subplot()\n",
        "sns.heatmap(cm,annot=True,ax=ax)\n",
        "\n",
        "ax.set_xlabel(\"Predicted value\")\n",
        "ax.set_ylabel(\"Actual value\")\n",
        "ax.set_title(\"Bank note reality\")\n",
        "ax.xaxis.set_ticklabels(labels)\n",
        "ax.yaxis.set_ticklabels(labels)"
      ],
      "metadata": {
        "colab": {
          "base_uri": "https://localhost:8080/",
          "height": 312
        },
        "id": "vdA-ruKkR1wS",
        "outputId": "f5f56713-bc73-4429-8fbb-d73721dce033"
      },
      "execution_count": 15,
      "outputs": [
        {
          "output_type": "execute_result",
          "data": {
            "text/plain": [
              "[Text(0, 0.5, 'Authentic'), Text(0, 1.5, 'Forged')]"
            ]
          },
          "metadata": {},
          "execution_count": 15
        },
        {
          "output_type": "display_data",
          "data": {
            "text/plain": [
              "<Figure size 432x288 with 2 Axes>"
            ],
            "image/png": "[encoded data removed]"
          },
          "metadata": {
            "needs_background": "light"
          }
        }
      ]
    },
    {
      "cell_type": "code",
      "source": [
        "accuracy = (1.9e+02+1.5e+02)/(1.9e+02+1.5e+02+7)\n",
        "print(\"Accuracy is \",accuracy)"
      ],
      "metadata": {
        "colab": {
          "base_uri": "https://localhost:8080/"
        },
        "id": "cQ4ANtUiSJfr",
        "outputId": "52a517cc-50ff-4c7f-ab58-e79f42a13774"
      },
      "execution_count": 14,
      "outputs": [
        {
          "output_type": "stream",
          "name": "stdout",
          "text": [
            "Accuracy is  0.9798270893371758\n"
          ]
        }
      ]
    }
  ]
}
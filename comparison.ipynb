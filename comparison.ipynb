{
  "nbformat": 4,
  "nbformat_minor": 0,
  "metadata": {
    "colab": {
      "name": "comparison",
      "provenance": [],
      "collapsed_sections": [],
      "authorship_tag": "ABX9TyP/mwhTttbIke/EL949T7rG",
      "include_colab_link": true
    },
    "kernelspec": {
      "name": "python3",
      "display_name": "Python 3"
    },
    "language_info": {
      "name": "python"
    }
  },
  "cells": [
    {
      "cell_type": "markdown",
      "metadata": {
        "id": "view-in-github",
        "colab_type": "text"
      },
      "source": [
        "<a href=\"https://colab.research.google.com/github/khushi12-shukla/Data-visualization/blob/master/comparison.ipynb\" target=\"_parent\"><img src=\"https://colab.research.google.com/assets/colab-badge.svg\" alt=\"Open In Colab\"/></a>"
      ]
    },
    {
      "cell_type": "code",
      "execution_count": 1,
      "metadata": {
        "colab": {
          "base_uri": "https://localhost:8080/"
        },
        "id": "Ck_l3wrTq1qE",
        "outputId": "14139f75-c76d-403c-8cf0-9c2263a4b8d1"
      },
      "outputs": [
        {
          "output_type": "stream",
          "name": "stdout",
          "text": [
            "the mean height is 67.99311359679979\n"
          ]
        }
      ],
      "source": [
        "import csv\n",
        "with open(\"SOCR-HeightWeight.csv\",newline=\"\") as f:\n",
        "  reader= csv.reader(f)\n",
        "  data_bank = list(reader)\n",
        "data_bank.pop(0)\n",
        "update_version=[]\n",
        "for i in range(len(data_bank)):\n",
        "  n_number = data_bank[i][1]\n",
        "  update_version.append(float(n_number))\n",
        "  n=len(update_version)\n",
        "sum = 0\n",
        "for x in update_version:\n",
        "  sum = sum+x\n",
        "mean=sum/n\n",
        "print(\"the mean height is\",mean)"
      ]
    },
    {
      "cell_type": "code",
      "source": [
        "update_version.sort()\n",
        "if(n%2==0):\n",
        "  median1= float(update_version[n//2])\n",
        "  median2 = float(update_version[n//2-1])\n",
        "  median = (median1+median2)/2\n",
        "else:\n",
        "  median = float(update_version[n//2])\n",
        "print(\"the median height is\",median)"
      ],
      "metadata": {
        "colab": {
          "base_uri": "https://localhost:8080/"
        },
        "id": "Vp_Zw-2ct3Xq",
        "outputId": "1b9e5de5-bcc5-4079-ec33-c3bedbc89b9d"
      },
      "execution_count": 2,
      "outputs": [
        {
          "output_type": "stream",
          "name": "stdout",
          "text": [
            "the median height is 67.9957\n"
          ]
        }
      ]
    },
    {
      "cell_type": "code",
      "source": [
        "from collections import Counter\n",
        "data = Counter(update_version)\n",
        "span = {\"60-70\":0,\"70-80\":0}\n",
        "for height,occurence in data.items():\n",
        "  if 60<float(height)<70:\n",
        "    span[\"60-70\"]+=occurence\n",
        "  elif 70<float(height)<80:\n",
        "    span[\"70-80\"]+=occurence\n",
        "mode_range,mode_occurrence=0,0\n",
        "for range,occurence in span.items():\n",
        "  if occurence>mode_occurrence:\n",
        "    mode_range,mode_occurrence=[int(range.split(\"-\")[0]),int(range.split(\"-\")[1])],occurence\n",
        "mode=float((mode_range[0]+mode_range[1])/2)\n",
        "print(f\"the most common height is {mode:2f}\") "
      ],
      "metadata": {
        "colab": {
          "base_uri": "https://localhost:8080/"
        },
        "id": "FhBrsTF7usef",
        "outputId": "d0642dad-d970-4aa2-ac9a-a019a2d43e1c"
      },
      "execution_count": 4,
      "outputs": [
        {
          "output_type": "stream",
          "name": "stdout",
          "text": [
            "the most common height is 65.000000\n"
          ]
        }
      ]
    }
  ]
}
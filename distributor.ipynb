{
  "nbformat": 4,
  "nbformat_minor": 0,
  "metadata": {
    "colab": {
      "name": "distributor",
      "provenance": [],
      "collapsed_sections": [],
      "authorship_tag": "ABX9TyP47lmQRlYct600STpz8FYo",
      "include_colab_link": true
    },
    "kernelspec": {
      "name": "python3",
      "display_name": "Python 3"
    },
    "language_info": {
      "name": "python"
    }
  },
  "cells": [
    {
      "cell_type": "markdown",
      "metadata": {
        "id": "view-in-github",
        "colab_type": "text"
      },
      "source": [
        "<a href=\"https://colab.research.google.com/github/khushi12-shukla/Data-visualization/blob/master/distributor.ipynb\" target=\"_parent\"><img src=\"https://colab.research.google.com/assets/colab-badge.svg\" alt=\"Open In Colab\"/></a>"
      ]
    },
    {
      "cell_type": "code",
      "execution_count": 2,
      "metadata": {
        "colab": {
          "base_uri": "https://localhost:8080/"
        },
        "id": "ZouEKLS9wvAq",
        "outputId": "0ed86b5e-caac-4d31-f97f-35f0c48f54f7"
      },
      "outputs": [
        {
          "output_type": "stream",
          "name": "stdout",
          "text": [
            "Math test\n",
            "mean is 66.089\n",
            "median is 66.0\n",
            "standard deviation is 15.163080096009452\n",
            "The percentage of content in first standard deviation is 69.6\n",
            "The percentage of content in second standard deviation is 95.4\n",
            "The percentage of content in third standard deviation is 99.6\n"
          ]
        }
      ],
      "source": [
        "import statistics\n",
        "import csv\n",
        "import pandas as pd \n",
        "\n",
        "info = pd.read_csv(\"StudentsPerformance.csv\")\n",
        "lister = info[\"math score\"].to_list()\n",
        "mean = statistics.mean(lister)\n",
        "median = statistics.median(lister)\n",
        "mode = statistics.mode(lister)\n",
        "standard_deviation = statistics.stdev(lister)\n",
        "\n",
        "print(\"Math test\")\n",
        "print(\"mean is\",mean)\n",
        "print(\"median is\", median)\n",
        "print(\"standard deviation is\", standard_deviation)\n",
        "\n",
        "start_1,end_1 = mean-standard_deviation,mean+standard_deviation\n",
        "start_2,end_2 = mean-(2*standard_deviation),mean+(2*standard_deviation)\n",
        "start_3,end_3 = mean-(3*standard_deviation),mean+(3*standard_deviation)\n",
        "\n",
        "difference_1 = [result for result in lister if result> start_1 and result< end_1]\n",
        "difference_2 = [result for result in lister if result> start_2 and result< end_2]\n",
        "difference_3 = [result for result in lister if result> start_3 and result< end_3]\n",
        "\n",
        "percentage_1 = len(difference_1)*100/len(lister)\n",
        "percentage_2 = len(difference_2)*100/len(lister)\n",
        "percentage_3 = len(difference_3)*100/len(lister)\n",
        "\n",
        "print(\"The percentage of content in first standard deviation is\",percentage_1)\n",
        "print(\"The percentage of content in second standard deviation is\",percentage_2)\n",
        "print(\"The percentage of content in third standard deviation is\",percentage_3)"
      ]
    },
    {
      "cell_type": "code",
      "source": [
        "lister = info[\"reading score\"].to_list()\n",
        "mean = statistics.mean(lister)\n",
        "median = statistics.median(lister)\n",
        "mode = statistics.mode(lister)\n",
        "standard_deviation = statistics.stdev(lister)\n",
        "\n",
        "print(\"Reading score\")\n",
        "print(\"mean is\",mean)\n",
        "print(\"median is\", median)\n",
        "print(\"standard deviation is\", standard_deviation)\n",
        "\n",
        "start_1,end_1 = mean-standard_deviation,mean+standard_deviation\n",
        "start_2,end_2 = mean-(2*standard_deviation),mean+(2*standard_deviation)\n",
        "start_3,end_3 = mean-(3*standard_deviation),mean+(3*standard_deviation)\n",
        "\n",
        "difference_1 = [result for result in lister if result> start_1 and result< end_1]\n",
        "difference_2 = [result for result in lister if result> start_2 and result< end_2]\n",
        "difference_3 = [result for result in lister if result> start_3 and result< end_3]\n",
        "\n",
        "percentage_1 = len(difference_1)*100/len(lister)\n",
        "percentage_2 = len(difference_2)*100/len(lister)\n",
        "percentage_3 = len(difference_3)*100/len(lister)\n",
        "\n",
        "print(\"The percentage of content in first standard deviation is\",percentage_1)\n",
        "print(\"The percentage of content in second standard deviation is\",percentage_2)\n",
        "print(\"The percentage of content in third standard deviation is\",percentage_3)"
      ],
      "metadata": {
        "colab": {
          "base_uri": "https://localhost:8080/"
        },
        "id": "PeB6PChd0PTh",
        "outputId": "7460ecd0-8c3e-4780-bd92-85066d28c5f3"
      },
      "execution_count": 3,
      "outputs": [
        {
          "output_type": "stream",
          "name": "stdout",
          "text": [
            "Reading score\n",
            "mean is 69.169\n",
            "median is 70.0\n",
            "standard deviation is 14.600191937252216\n",
            "The percentage of content in first standard deviation is 66.4\n",
            "The percentage of content in second standard deviation is 95.4\n",
            "The percentage of content in third standard deviation is 99.6\n"
          ]
        }
      ]
    },
    {
      "cell_type": "code",
      "source": [
        "lister = info[\"writing score\"].to_list()\n",
        "mean = statistics.mean(lister)\n",
        "median = statistics.median(lister)\n",
        "mode = statistics.mode(lister)\n",
        "standard_deviation = statistics.stdev(lister)\n",
        "\n",
        "print(\"Writing test\")\n",
        "print(\"mean is\",mean)\n",
        "print(\"median is\", median)\n",
        "print(\"standard deviation is\", standard_deviation)\n",
        "\n",
        "start_1,end_1 = mean-standard_deviation,mean+standard_deviation\n",
        "start_2,end_2 = mean-(2*standard_deviation),mean+(2*standard_deviation)\n",
        "start_3,end_3 = mean-(3*standard_deviation),mean+(3*standard_deviation)\n",
        "\n",
        "difference_1 = [result for result in lister if result> start_1 and result< end_1]\n",
        "difference_2 = [result for result in lister if result> start_2 and result< end_2]\n",
        "difference_3 = [result for result in lister if result> start_3 and result< end_3]\n",
        "\n",
        "percentage_1 = len(difference_1)*100/len(lister)\n",
        "percentage_2 = len(difference_2)*100/len(lister)\n",
        "percentage_3 = len(difference_3)*100/len(lister)\n",
        "\n",
        "print(\"The percentage of content in first standard deviation is\",percentage_1)\n",
        "print(\"The percentage of content in second standard deviation is\",percentage_2)\n",
        "print(\"The percentage of content in third standard deviation is\",percentage_3)"
      ],
      "metadata": {
        "colab": {
          "base_uri": "https://localhost:8080/"
        },
        "id": "ztuTpb6I0qUW",
        "outputId": "d99292d4-5c45-417a-f8db-e3b4415bbab4"
      },
      "execution_count": 4,
      "outputs": [
        {
          "output_type": "stream",
          "name": "stdout",
          "text": [
            "Writing test\n",
            "mean is 68.054\n",
            "median is 69.0\n",
            "standard deviation is 15.19565701086965\n",
            "The percentage of content in first standard deviation is 68.8\n",
            "The percentage of content in second standard deviation is 95.8\n",
            "The percentage of content in third standard deviation is 99.6\n"
          ]
        }
      ]
    }
  ]
}